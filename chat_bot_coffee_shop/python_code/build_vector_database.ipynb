{
 "cells": [
  {
   "cell_type": "code",
   "execution_count": 2,
   "id": "1d4a84f8",
   "metadata": {},
   "outputs": [
    {
     "name": "stdout",
     "output_type": "stream",
     "text": [
      "Requirement already satisfied: pandas in c:\\users\\christian\\anaconda3\\lib\\site-packages (2.2.2)\n",
      "Requirement already satisfied: numpy>=1.26.0 in c:\\users\\christian\\anaconda3\\lib\\site-packages (from pandas) (1.26.4)\n",
      "Requirement already satisfied: python-dateutil>=2.8.2 in c:\\users\\christian\\anaconda3\\lib\\site-packages (from pandas) (2.9.0.post0)\n",
      "Requirement already satisfied: pytz>=2020.1 in c:\\users\\christian\\anaconda3\\lib\\site-packages (from pandas) (2024.1)\n",
      "Requirement already satisfied: tzdata>=2022.7 in c:\\users\\christian\\anaconda3\\lib\\site-packages (from pandas) (2023.3)\n",
      "Requirement already satisfied: six>=1.5 in c:\\users\\christian\\anaconda3\\lib\\site-packages (from python-dateutil>=2.8.2->pandas) (1.16.0)\n",
      "Requirement already satisfied: pinecone in c:\\users\\christian\\anaconda3\\lib\\site-packages (6.0.2)\n",
      "Requirement already satisfied: certifi>=2019.11.17 in c:\\users\\christian\\anaconda3\\lib\\site-packages (from pinecone) (2025.1.31)\n",
      "Requirement already satisfied: pinecone-plugin-interface<0.0.8,>=0.0.7 in c:\\users\\christian\\anaconda3\\lib\\site-packages (from pinecone) (0.0.7)\n",
      "Requirement already satisfied: python-dateutil>=2.5.3 in c:\\users\\christian\\anaconda3\\lib\\site-packages (from pinecone) (2.9.0.post0)\n",
      "Requirement already satisfied: typing-extensions>=3.7.4 in c:\\users\\christian\\anaconda3\\lib\\site-packages (from pinecone) (4.11.0)\n",
      "Requirement already satisfied: urllib3>=1.26.5 in c:\\users\\christian\\anaconda3\\lib\\site-packages (from pinecone) (2.2.3)\n",
      "Requirement already satisfied: six>=1.5 in c:\\users\\christian\\anaconda3\\lib\\site-packages (from python-dateutil>=2.5.3->pinecone) (1.16.0)\n",
      "Requirement already satisfied: openai in c:\\users\\christian\\anaconda3\\lib\\site-packages (1.76.0)\n",
      "Requirement already satisfied: anyio<5,>=3.5.0 in c:\\users\\christian\\anaconda3\\lib\\site-packages (from openai) (4.2.0)\n",
      "Requirement already satisfied: distro<2,>=1.7.0 in c:\\users\\christian\\anaconda3\\lib\\site-packages (from openai) (1.9.0)\n",
      "Requirement already satisfied: httpx<1,>=0.23.0 in c:\\users\\christian\\anaconda3\\lib\\site-packages (from openai) (0.27.0)\n",
      "Requirement already satisfied: jiter<1,>=0.4.0 in c:\\users\\christian\\anaconda3\\lib\\site-packages (from openai) (0.9.0)\n",
      "Requirement already satisfied: pydantic<3,>=1.9.0 in c:\\users\\christian\\anaconda3\\lib\\site-packages (from openai) (2.8.2)\n",
      "Requirement already satisfied: sniffio in c:\\users\\christian\\anaconda3\\lib\\site-packages (from openai) (1.3.0)\n",
      "Requirement already satisfied: tqdm>4 in c:\\users\\christian\\anaconda3\\lib\\site-packages (from openai) (4.66.5)\n",
      "Requirement already satisfied: typing-extensions<5,>=4.11 in c:\\users\\christian\\anaconda3\\lib\\site-packages (from openai) (4.11.0)\n",
      "Requirement already satisfied: idna>=2.8 in c:\\users\\christian\\anaconda3\\lib\\site-packages (from anyio<5,>=3.5.0->openai) (3.7)\n",
      "Requirement already satisfied: certifi in c:\\users\\christian\\anaconda3\\lib\\site-packages (from httpx<1,>=0.23.0->openai) (2025.1.31)\n",
      "Requirement already satisfied: httpcore==1.* in c:\\users\\christian\\anaconda3\\lib\\site-packages (from httpx<1,>=0.23.0->openai) (1.0.2)\n",
      "Requirement already satisfied: h11<0.15,>=0.13 in c:\\users\\christian\\anaconda3\\lib\\site-packages (from httpcore==1.*->httpx<1,>=0.23.0->openai) (0.14.0)\n",
      "Requirement already satisfied: annotated-types>=0.4.0 in c:\\users\\christian\\anaconda3\\lib\\site-packages (from pydantic<3,>=1.9.0->openai) (0.6.0)\n",
      "Requirement already satisfied: pydantic-core==2.20.1 in c:\\users\\christian\\anaconda3\\lib\\site-packages (from pydantic<3,>=1.9.0->openai) (2.20.1)\n",
      "Requirement already satisfied: colorama in c:\\users\\christian\\anaconda3\\lib\\site-packages (from tqdm>4->openai) (0.4.6)\n",
      "Requirement already satisfied: python-dotenv in c:\\users\\christian\\anaconda3\\lib\\site-packages (0.21.0)\n"
     ]
    }
   ],
   "source": [
    "!pip install pandas\n",
    "!pip install pinecone\n",
    "!pip install openai\n",
    "!pip install python-dotenv"
   ]
  },
  {
   "cell_type": "code",
   "execution_count": 3,
   "id": "6c66af0e",
   "metadata": {},
   "outputs": [
    {
     "data": {
      "text/plain": [
       "True"
      ]
     },
     "execution_count": 3,
     "metadata": {},
     "output_type": "execute_result"
    }
   ],
   "source": [
    "from pinecone import Pinecone, ServerlessSpec\n",
    "import os\n",
    "from openai import OpenAI\n",
    "import pandas as pd\n",
    "from time import time\n",
    "import dotenv\n",
    "dotenv.load_dotenv()"
   ]
  },
  {
   "cell_type": "code",
   "execution_count": 4,
   "id": "8c5cb20f",
   "metadata": {},
   "outputs": [],
   "source": [
    "token= os.getenv(\"RUNPOD_TOKEN\") \n",
    "open_ai_base_url = os.getenv(\"RUNPOD_EMBEDDING_URL\") \n",
    "model_name= os.getenv(\"MODEL_NAME\") \n",
    "pinecone_api_key = os.getenv(\"PINECONE_API_KEY\") "
   ]
  },
  {
   "cell_type": "code",
   "execution_count": 5,
   "id": "da432083",
   "metadata": {},
   "outputs": [],
   "source": [
    "pc = Pinecone(api_key=pinecone_api_key)\n",
    "\n",
    "client = OpenAI(\n",
    "  api_key=token, \n",
    "  base_url=open_ai_base_url\n",
    ")"
   ]
  },
  {
   "cell_type": "markdown",
   "id": "c1006b63",
   "metadata": {},
   "source": [
    "## Try out embeddings"
   ]
  },
  {
   "cell_type": "code",
   "execution_count": 8,
   "id": "bb120d1c",
   "metadata": {
    "scrolled": true
   },
   "outputs": [
    {
     "name": "stdout",
     "output_type": "stream",
     "text": [
      "[-0.050730783492326736, -0.06410026550292969, 0.06318455189466476, -0.03568248078227043, 0.035285670310258865, 0.025090675801038742, 0.0824756771326065, 0.08235358446836472, 0.01435388159006834, -0.010278935544192791, 0.003964296076446772, -0.07258592545986176, 0.017871765419840813, 0.033087946474552155, 0.033423710614442825, 0.025289081037044525, 0.012652171775698662, -0.03891801834106445, -0.11818868666887283, -0.0009643656085245311, -0.009897386655211449, 0.06617589294910431, -0.03406471386551857, -0.04355765879154205, 0.024327578023076057, -0.0016950323479250073, -0.03131755813956261, 0.015628255903720856, 0.0013773926766589284, -0.12636910378932953, 0.015605363063514233, -0.004590036813169718, 0.04706791043281555, -0.024953318759799004, 0.01255296915769577, -0.014941466972231865, 0.04450390115380287, 0.025380654260516167, -0.06782418489456177, 0.0009929818334057927, 0.022114591673016548, -0.013613675720989704, 0.03870435059070587, -0.01378155779093504, 0.008623012341558933, -0.04828886687755585, 0.022877691313624382, 0.02663213573396206, -0.009225860238075256, 0.028784072026610374, 0.03965059295296669, 0.04740367457270622, -0.030661294236779213, 0.009187704883515835, 0.005620219744741917, 0.09694402664899826, 0.06880095601081848, -0.034003663808107376, 0.0372086800634861, 0.01557483896613121, 0.037605490535497665, 0.01672711782157421, -0.1430962085723877, 0.07765289396047592, -0.04477861523628235, -0.012049323879182339, 0.028890905901789665, -0.013277912512421608, -0.016009805724024773, -0.01388839166611433, 0.002833002945408225, 0.017383381724357605, -0.04792258143424988, 0.0232439786195755, 0.029379289597272873, 0.01942848600447178, 0.02335081249475479, 0.004403077997267246, 0.061780449002981186, -0.027715735137462616, -0.0014222246827557683, -0.03220275416970253, 0.011133605614304543, 0.025960607454180717, -0.024434411898255348, -0.027486804872751236, -0.020725753158330917, 0.05787338316440582, -0.037849683314561844, -0.024922793731093407, -0.020771538838744164, -0.010523127391934395, 0.03525514528155327, 0.048319391906261444, -0.05918591469526291, -0.05286745727062225, 0.009569253772497177, 0.0430387519299984, -0.0557977557182312, 0.3264840245246887, -0.07197543978691101, -0.006581723690032959, 0.06898409873247147, -0.0523485504090786, -0.012003538198769093, 0.033881571143865585, 0.0015786598669365048, 0.020344203338027, 0.021122563630342484, -0.022389307618141174, 0.02187040075659752, -0.03519409894943237, 0.037269726395606995, 0.0033709872514009476, 0.0383991114795208, -0.020954683423042297, 0.015513790771365166, -0.011270963586866856, 0.10042375326156616, -0.0453585684299469, 0.012064586393535137, 0.04093259945511818, -0.04047473892569542, 0.01204169262200594, 0.04847201332449913, -0.040627360343933105, 0.03327109292149544, 0.08699321746826172, -0.028631452471017838, 0.053050603717565536, 0.01953531987965107, 0.07856861501932144, -0.06715266406536102, 0.0022606791462749243, -0.022511404007673264, 0.026067441329360008, 0.00895114429295063, 0.00508605083450675, -0.009164812043309212, -0.006326085887849331, -0.03324056789278984, -0.07869070768356323, -0.03339318558573723, -0.11202284693717957, -0.006646587047725916, 0.0039032483473420143, -0.017413906753063202, 0.022572452202439308, 0.001239081029780209, 0.0441681370139122, -0.025151723995804787, -0.0044068931601941586, -0.050395019352436066, -0.017246024683117867, 0.029119836166501045, -0.03931482881307602, 0.045511189848184586, 0.04102417081594467, 0.003504529595375061, -0.0012896363623440266, 0.008684059605002403, -0.008737476542592049, -0.0056049576960504055, -0.04355765879154205, -0.0755772665143013, -0.15970124304294586, -0.0014527486637234688, 0.0038154921494424343, 0.022877691313624382, 0.008081212639808655, 0.010965724475681782, 0.021244660019874573, -0.05595037713646889, 0.03449204936623573, 0.10170575976371765, 0.02522803470492363, -0.019474271684885025, 0.023427121341228485, -0.04844148829579353, -0.012201943434774876, 0.011438845656812191, -0.03244694322347641, -0.010187364183366299, -0.018909579142928123, -0.008974037133157253, -0.01674237847328186, 0.01470490638166666, 0.025746941566467285, 0.012056955136358738, 0.05616404488682747, -0.010980986058712006, 0.009637933224439621, -0.0033576330170035362, 0.016330305486917496, -0.04688476771116257, -0.007081553339958191, 0.06104787439107895, -0.018466981127858162, 0.016605021432042122, -0.016208210960030556, 0.052012789994478226, -0.03742234781384468, 0.015765612944960594, 0.045389093458652496, 0.034461524337530136, 0.0067953914403915405, 0.034125760197639465, 0.013041351921856403, 0.036903440952301025, 0.010858890600502491, -0.012232467532157898, -0.02614375203847885, 0.11733401566743851, 0.00706629129126668, -0.011873811483383179, -0.051219165325164795, -0.03150070458650589, 0.027028946205973625, -0.017230762168765068, -0.00622306764125824, 0.043435562402009964, -0.028784072026610374, -0.0755772665143013, -0.2857040464878082, 0.08394082635641098, -0.02335081249475479, -0.01872643455862999, 0.016543973237276077, -0.04740367457270622, 0.08088843524456024, 0.03034079261124134, 0.0871153175830841, -0.00855433288961649, 0.035865627229213715, -0.05186016857624054, 0.024709125980734825, -0.014056272804737091, 0.012415611185133457, 0.008569595403969288, -0.04007792845368385, -0.05384422466158867, 0.03919273614883423, -0.05747657269239426, 0.015994543209671974, -0.00907324068248272, 0.005147099029272795, -0.028768811374902725, -0.020267894491553307, -0.01517039630562067, 0.1546953171491623, 0.19962655007839203, 0.06898409873247147, 0.009988958016037941, 0.036323484033346176, -0.04618271812796593, -0.04664057493209839, -0.16311991214752197, 0.007451656274497509, 0.0534779354929924, 0.005627851001918316, -0.0860775038599968, -0.04578590393066406, 0.012896363623440266, -0.022648761048913002, 0.012881101109087467, -0.008210939355194569, 0.025365391746163368, -0.014056272804737091, -0.08040004968643188, -0.07460050284862518, 0.04813624918460846, -0.06696951389312744, 0.02359500341117382, 0.028768811374902725, -0.031225986778736115, -0.0008022072142921388, 0.04780048504471779, -0.006059001665562391, -0.08308615535497665, -0.004902907181531191, -0.02499910444021225, 0.004265720024704933, 0.08522283285856247, -0.029226670041680336, 0.05256221815943718, -0.03147017955780029, 0.005887304432690144, -0.03681186959147453, 0.061933066695928574, -0.06116997078061104, 0.01710866577923298, 0.06959457695484161, 0.002096612937748432, -0.03867382928729057, -0.07533307373523712, -0.0325690396130085, -0.023808671161532402, 0.03153122588992119, 0.04010845348238945, -0.0032851386349648237, 0.03229432553052902, -0.016879737377166748, -0.07185334712266922, 0.01884853094816208, -0.03931482881307602, 0.04135993495583534, -0.013857867568731308, 0.00023059880186337978, 0.05762919411063194, 0.05030344799160957, -0.001218095887452364, -0.0006147711537778378, -0.04950982704758644, -0.041115742176771164, 0.033057425171136856, 0.007482179906219244, -0.05857543647289276, 0.01907746121287346, -0.061322588473558426, -0.2590871751308441, 0.06550437211990356, -0.015429849736392498, 0.013819712214171886, -0.06205516308546066, 0.05955220013856888, 0.04309979826211929, 0.012163789011538029, -0.047159481793642044, 0.01837540976703167, -0.03812439739704132, 0.024968579411506653, 0.03501095622777939, 0.031805943697690964, -0.014041011221706867, 0.0778360366821289, 0.0284788329154253, -0.046091143041849136, -0.020634181797504425, -0.05823967233300209, 0.02510593831539154, 0.01768862083554268, 0.14834633469581604, -0.04093259945511818, 0.09969117492437363, -0.003617086447775364, -0.002548748627305031, 0.020267894491553307, -0.02452598325908184, -0.026922112330794334, -0.007768341805785894, -0.018161742016673088, -0.024449672549962997, -0.0593385323882103, 0.04990663751959801, 0.034949906170368195, -0.04441232979297638, 0.015185658819973469, 0.02255718968808651, -0.033912092447280884, -0.048410963267087936, 0.007989640347659588, -0.023884980008006096, -0.005669821053743362, 0.032599564641714096, -0.002747154328972101, -0.043527133762836456, -0.002163384109735489, 0.01916903257369995, 0.03232485055923462, -0.0113320117816329, 0.035987719893455505, -0.011309118941426277, 0.025487488135695457, 0.008249093778431416, -0.04465651884675026, -0.018421195447444916, -0.010950461961328983, 0.03150070458650589, -0.036323484033346176, -0.01639135368168354, -0.04984558746218681, 0.05091392621397972, 0.026571087539196014, -0.034461524337530136]\n"
     ]
    }
   ],
   "source": [
    "output = client.embeddings.create(input =[\"hello there!\"],model=model_name)\n",
    "embedings = output.data[0].embedding\n",
    "print(embedings)"
   ]
  },
  {
   "cell_type": "code",
   "execution_count": 9,
   "id": "29e9587b",
   "metadata": {},
   "outputs": [
    {
     "data": {
      "text/plain": [
       "384"
      ]
     },
     "execution_count": 9,
     "metadata": {},
     "output_type": "execute_result"
    }
   ],
   "source": [
    "len(embedings)"
   ]
  },
  {
   "cell_type": "code",
   "execution_count": null,
   "id": "cb658827",
   "metadata": {},
   "outputs": [],
   "source": []
  },
  {
   "cell_type": "markdown",
   "id": "9b8b80de",
   "metadata": {},
   "source": [
    "## Wrangle dataset"
   ]
  },
  {
   "cell_type": "code",
   "execution_count": 12,
   "id": "5e2e1be8",
   "metadata": {},
   "outputs": [],
   "source": [
    "df=pd.read_json('products/products.jsonl',lines=True)"
   ]
  },
  {
   "cell_type": "code",
   "execution_count": 13,
   "id": "dbffeb98",
   "metadata": {},
   "outputs": [
    {
     "data": {
      "text/html": [
       "<div>\n",
       "<style scoped>\n",
       "    .dataframe tbody tr th:only-of-type {\n",
       "        vertical-align: middle;\n",
       "    }\n",
       "\n",
       "    .dataframe tbody tr th {\n",
       "        vertical-align: top;\n",
       "    }\n",
       "\n",
       "    .dataframe thead th {\n",
       "        text-align: right;\n",
       "    }\n",
       "</style>\n",
       "<table border=\"1\" class=\"dataframe\">\n",
       "  <thead>\n",
       "    <tr style=\"text-align: right;\">\n",
       "      <th></th>\n",
       "      <th>name</th>\n",
       "      <th>category</th>\n",
       "      <th>description</th>\n",
       "      <th>ingredients</th>\n",
       "      <th>price</th>\n",
       "      <th>rating</th>\n",
       "      <th>image_path</th>\n",
       "    </tr>\n",
       "  </thead>\n",
       "  <tbody>\n",
       "    <tr>\n",
       "      <th>0</th>\n",
       "      <td>Cappuccino</td>\n",
       "      <td>Coffee</td>\n",
       "      <td>A rich and creamy cappuccino made with freshly...</td>\n",
       "      <td>[Espresso, Steamed Milk, Milk Foam]</td>\n",
       "      <td>4.50</td>\n",
       "      <td>4.7</td>\n",
       "      <td>cappuccino.jpg</td>\n",
       "    </tr>\n",
       "    <tr>\n",
       "      <th>1</th>\n",
       "      <td>Jumbo Savory Scone</td>\n",
       "      <td>Bakery</td>\n",
       "      <td>Deliciously flaky and buttery, this jumbo savo...</td>\n",
       "      <td>[Flour, Butter, Cheese, Herbs, Baking Powder, ...</td>\n",
       "      <td>3.25</td>\n",
       "      <td>4.3</td>\n",
       "      <td>SavoryScone.webp</td>\n",
       "    </tr>\n",
       "  </tbody>\n",
       "</table>\n",
       "</div>"
      ],
      "text/plain": [
       "                 name category  \\\n",
       "0          Cappuccino   Coffee   \n",
       "1  Jumbo Savory Scone   Bakery   \n",
       "\n",
       "                                         description  \\\n",
       "0  A rich and creamy cappuccino made with freshly...   \n",
       "1  Deliciously flaky and buttery, this jumbo savo...   \n",
       "\n",
       "                                         ingredients  price  rating  \\\n",
       "0                [Espresso, Steamed Milk, Milk Foam]   4.50     4.7   \n",
       "1  [Flour, Butter, Cheese, Herbs, Baking Powder, ...   3.25     4.3   \n",
       "\n",
       "         image_path  \n",
       "0    cappuccino.jpg  \n",
       "1  SavoryScone.webp  "
      ]
     },
     "execution_count": 13,
     "metadata": {},
     "output_type": "execute_result"
    }
   ],
   "source": [
    "df.head(2)"
   ]
  },
  {
   "cell_type": "code",
   "execution_count": null,
   "id": "1cc39471",
   "metadata": {},
   "outputs": [],
   "source": []
  },
  {
   "cell_type": "code",
   "execution_count": 14,
   "id": "d9ea042d",
   "metadata": {},
   "outputs": [],
   "source": [
    "df['text'] =  df['name']+\" : \"+df['description'] + \\\n",
    "                \" -- Ingredients: \" + df['ingredients'].astype(str) + \\\n",
    "                \" -- Price: \" + df['price'].astype(str) + \\\n",
    "                \" -- rating: \" + df['rating'].astype(str) "
   ]
  },
  {
   "cell_type": "code",
   "execution_count": 15,
   "id": "e0254a83",
   "metadata": {},
   "outputs": [
    {
     "data": {
      "text/plain": [
       "0    Cappuccino : A rich and creamy cappuccino made...\n",
       "1    Jumbo Savory Scone : Deliciously flaky and but...\n",
       "2    Latte : Smooth and creamy, our latte combines ...\n",
       "3    Chocolate Chip Biscotti : Crunchy and delightf...\n",
       "4    Espresso shot : A bold shot of rich espresso, ...\n",
       "Name: text, dtype: object"
      ]
     },
     "execution_count": 15,
     "metadata": {},
     "output_type": "execute_result"
    }
   ],
   "source": [
    "df['text'].head()"
   ]
  },
  {
   "cell_type": "code",
   "execution_count": 17,
   "id": "54a8a7cc",
   "metadata": {},
   "outputs": [],
   "source": [
    "texts = df['text'].tolist()"
   ]
  },
  {
   "cell_type": "code",
   "execution_count": 18,
   "id": "89e73365",
   "metadata": {},
   "outputs": [],
   "source": [
    "with open('products/Merry\\'s_way_about_us.txt') as f:\n",
    "    Merry_way_about_section = f.read()\n",
    "    \n",
    "Merry_way_about_section = \"Coffee shop Merry's Way about section: \" + Merry_way_about_section\n",
    "texts.append(Merry_way_about_section)"
   ]
  },
  {
   "cell_type": "code",
   "execution_count": 19,
   "id": "89c92467",
   "metadata": {},
   "outputs": [],
   "source": [
    "with open('products/menu_items_text.txt') as f:\n",
    "    menue_items_text = f.read()\n",
    "    \n",
    "menue_items_text = \"Menu Items: \" + menue_items_text\n",
    "texts.append(menue_items_text)"
   ]
  },
  {
   "cell_type": "code",
   "execution_count": null,
   "id": "f4432c64",
   "metadata": {},
   "outputs": [],
   "source": []
  },
  {
   "cell_type": "markdown",
   "id": "12e041b1",
   "metadata": {},
   "source": [
    "## Generate Embeddings"
   ]
  },
  {
   "cell_type": "code",
   "execution_count": 20,
   "id": "d4995842",
   "metadata": {},
   "outputs": [],
   "source": [
    "output = client.embeddings.create(input = texts,model=model_name)"
   ]
  },
  {
   "cell_type": "code",
   "execution_count": 21,
   "id": "69b16ab5",
   "metadata": {},
   "outputs": [],
   "source": [
    "embeddings = output.data"
   ]
  },
  {
   "cell_type": "code",
   "execution_count": null,
   "id": "ffc75b47",
   "metadata": {},
   "outputs": [],
   "source": []
  },
  {
   "cell_type": "markdown",
   "id": "b63f8308",
   "metadata": {},
   "source": [
    "## Push data to database"
   ]
  },
  {
   "cell_type": "code",
   "execution_count": 22,
   "id": "5a255797",
   "metadata": {},
   "outputs": [
    {
     "data": {
      "text/plain": [
       "{\n",
       "    \"name\": \"coffeeshop\",\n",
       "    \"metric\": \"cosine\",\n",
       "    \"host\": \"coffeeshop-vhoiaq5.svc.aped-4627-b74a.pinecone.io\",\n",
       "    \"spec\": {\n",
       "        \"serverless\": {\n",
       "            \"cloud\": \"aws\",\n",
       "            \"region\": \"us-east-1\"\n",
       "        }\n",
       "    },\n",
       "    \"status\": {\n",
       "        \"ready\": true,\n",
       "        \"state\": \"Ready\"\n",
       "    },\n",
       "    \"vector_type\": \"dense\",\n",
       "    \"dimension\": 384,\n",
       "    \"deletion_protection\": \"disabled\",\n",
       "    \"tags\": null\n",
       "}"
      ]
     },
     "execution_count": 22,
     "metadata": {},
     "output_type": "execute_result"
    }
   ],
   "source": [
    "index_name = \"coffeeshop\"\n",
    "\n",
    "pc.create_index(\n",
    "    name=index_name,\n",
    "    dimension=384, # Replace with your model dimensions\n",
    "    metric=\"cosine\", # Replace with your model metric\n",
    "    spec=ServerlessSpec(\n",
    "        cloud=\"aws\",\n",
    "        region=\"us-east-1\"\n",
    "    ) \n",
    ")"
   ]
  },
  {
   "cell_type": "code",
   "execution_count": 23,
   "id": "e742460e",
   "metadata": {},
   "outputs": [
    {
     "data": {
      "text/plain": [
       "{'upserted_count': 20}"
      ]
     },
     "execution_count": 23,
     "metadata": {},
     "output_type": "execute_result"
    }
   ],
   "source": [
    "# Wait for the index to be ready\n",
    "while not pc.describe_index(index_name).status['ready']:\n",
    "    time.sleep(1)\n",
    "\n",
    "index = pc.Index(index_name)\n",
    "\n",
    "vectors = []\n",
    "for text, e in zip(texts, embeddings):\n",
    "    entry_id = text.split(\":\")[0].strip()\n",
    "    vectors.append({\n",
    "        \"id\": entry_id,\n",
    "        \"values\": e.embedding,\n",
    "        \"metadata\": {'text': text}\n",
    "    })\n",
    "    \n",
    "index.upsert(\n",
    "    vectors=vectors,\n",
    "    namespace=\"ns1\"\n",
    ")"
   ]
  },
  {
   "cell_type": "code",
   "execution_count": null,
   "id": "cb353a20",
   "metadata": {},
   "outputs": [],
   "source": []
  },
  {
   "cell_type": "markdown",
   "id": "978c769f",
   "metadata": {},
   "source": [
    "## Get Closest documents"
   ]
  },
  {
   "cell_type": "code",
   "execution_count": null,
   "id": "34ba1c35",
   "metadata": {},
   "outputs": [],
   "source": []
  },
  {
   "cell_type": "code",
   "execution_count": 24,
   "id": "80691695",
   "metadata": {},
   "outputs": [],
   "source": [
    "output = client.embeddings.create(input = [\"Is Cappuccino lactose-free?\"],model=model_name)\n",
    "embeding = output.data[0].embedding"
   ]
  },
  {
   "cell_type": "code",
   "execution_count": 25,
   "id": "0571221f",
   "metadata": {},
   "outputs": [
    {
     "name": "stdout",
     "output_type": "stream",
     "text": [
      "{'matches': [{'id': 'Cappuccino',\n",
      "              'metadata': {'text': 'Cappuccino : A rich and creamy cappuccino '\n",
      "                                   'made with freshly brewed espresso, steamed '\n",
      "                                   'milk, and a frothy milk cap. This '\n",
      "                                   'delightful drink offers a perfect balance '\n",
      "                                   'of bold coffee flavor and smooth milk, '\n",
      "                                   'making it an ideal companion for relaxing '\n",
      "                                   'mornings or lively conversations. -- '\n",
      "                                   \"Ingredients: ['Espresso', 'Steamed Milk', \"\n",
      "                                   \"'Milk Foam'] -- Price: 4.5 -- rating: 4.7\"},\n",
      "              'score': 0.734799385,\n",
      "              'values': []},\n",
      "             {'id': 'Sugar Free Vanilla syrup',\n",
      "              'metadata': {'text': 'Sugar Free Vanilla syrup : Enjoy the sweet '\n",
      "                                   'flavor of vanilla without the sugar, '\n",
      "                                   'making it perfect for your coffee or '\n",
      "                                   'dessert. This syrup offers a guilt-free '\n",
      "                                   'way to enhance your beverages, ensuring '\n",
      "                                   'you never miss out on flavor. -- '\n",
      "                                   \"Ingredients: ['Water', 'Natural Flavors', \"\n",
      "                                   \"'Sucralose'] -- Price: 1.5 -- rating: 4.4\"},\n",
      "              'score': 0.625312269,\n",
      "              'values': []},\n",
      "             {'id': 'Menu Items',\n",
      "              'metadata': {'text': 'Menu Items: Menu Items\\n'\n",
      "                                   '\\n'\n",
      "                                   'Cappuccino - $4.50\\n'\n",
      "                                   'Jumbo Savory Scone - $3.25\\n'\n",
      "                                   'Latte - $4.75\\n'\n",
      "                                   'Chocolate Chip Biscotti - $2.50\\n'\n",
      "                                   'Espresso shot - $2.00\\n'\n",
      "                                   'Hazelnut Biscotti - $2.75\\n'\n",
      "                                   'Chocolate Croissant - $3.75\\n'\n",
      "                                   'Dark chocolate (Drinking Chocolate) - '\n",
      "                                   '$5.00\\n'\n",
      "                                   'Cranberry Scone - $3.50\\n'\n",
      "                                   'Croissant - $3.25\\n'\n",
      "                                   'Almond Croissant - $4.00\\n'\n",
      "                                   'Ginger Biscotti - $2.50\\n'\n",
      "                                   'Oatmeal Scone - $3.25\\n'\n",
      "                                   'Ginger Scone - $3.50\\n'\n",
      "                                   'Chocolate syrup - $1.50\\n'\n",
      "                                   'Hazelnut syrup - $1.50\\n'\n",
      "                                   'Carmel syrup - $1.50\\n'\n",
      "                                   'Sugar Free Vanilla syrup - $1.50\\n'\n",
      "                                   'Dark chocolate (Packaged Chocolate) - '\n",
      "                                   '$3.00'},\n",
      "              'score': 0.612104893,\n",
      "              'values': []}],\n",
      " 'namespace': 'ns1',\n",
      " 'usage': {'read_units': 1}}\n"
     ]
    }
   ],
   "source": [
    "results = index.query(\n",
    "    namespace=\"ns1\",\n",
    "    vector=embeding,\n",
    "    top_k=3,\n",
    "    include_values=False,\n",
    "    include_metadata=True\n",
    ")\n",
    "\n",
    "print(results)"
   ]
  },
  {
   "cell_type": "code",
   "execution_count": null,
   "id": "4d44ecd9",
   "metadata": {},
   "outputs": [],
   "source": []
  },
  {
   "cell_type": "code",
   "execution_count": null,
   "id": "3ca62f60",
   "metadata": {},
   "outputs": [],
   "source": []
  }
 ],
 "metadata": {
  "kernelspec": {
   "display_name": "base",
   "language": "python",
   "name": "python3"
  },
  "language_info": {
   "codemirror_mode": {
    "name": "ipython",
    "version": 3
   },
   "file_extension": ".py",
   "mimetype": "text/x-python",
   "name": "python",
   "nbconvert_exporter": "python",
   "pygments_lexer": "ipython3",
   "version": "3.12.3"
  }
 },
 "nbformat": 4,
 "nbformat_minor": 5
}
